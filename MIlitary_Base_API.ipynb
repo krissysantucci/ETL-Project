{
 "cells": [
  {
   "cell_type": "code",
   "execution_count": null,
   "metadata": {},
   "outputs": [],
   "source": [
    "import requests\n",
    "import json\n",
    "import pandas as pd"
   ]
  },
  {
   "cell_type": "code",
   "execution_count": null,
   "metadata": {},
   "outputs": [],
   "source": [
    "base_name = []\n",
    "coordinate = []"
   ]
  },
  {
   "cell_type": "code",
   "execution_count": null,
   "metadata": {},
   "outputs": [],
   "source": [
    "for x in range(750):\n",
    "    api_url = \"https://public.opendatasoft.com/api/records/1.0/search/?dataset=military-bases&rows=750&facet=site_name&facet=geo_point_2d\"\n",
    "    data = requests.get(api_url).json()\n",
    "    \n",
    "    base_name.append(data[\"records\"][x][\"fields\"][\"site_name\"])\n",
    "    coordinate.append(data[\"records\"][x][\"geometry\"][\"coordinates\"])\n",
    "    print(len(coordinate))"
   ]
  },
  {
   "cell_type": "code",
   "execution_count": 4,
   "metadata": {},
   "outputs": [
    {
     "name": "stdout",
     "output_type": "stream",
     "text": [
      "[[-97.61214787931863, 28.61117547477041], [-74.05928879461298, 40.30658198084746], [-117.1570601166064, 32.66788716102143], [-122.6217731346347, 47.697343057539875], [-75.428419480209, 40.21461577356267], [-74.58031763525605, 40.02563040543152], [-79.27941950222485, 38.51985897583964], [-85.9502653693512, 33.71796129994836]]\n"
     ]
    }
   ],
   "source": [
    "print(coordinate)"
   ]
  },
  {
   "cell_type": "code",
   "execution_count": null,
   "metadata": {},
   "outputs": [],
   "source": [
    "for x in range(750):\n",
    "    api_url = \"https://public.opendatasoft.com/api/records/1.0/search/?dataset=military-bases&rows=750&facet=site_name&facet=geo_point_2d\"\n",
    "    data = requests.get(api_url).json()\n",
    "    \n",
    "    base_name.append(data[\"records\"][x][\"fields\"][\"site_name\"])\n",
    "    coordinate.append(data[\"records\"][x][\"geometry\"][\"coordinates\"])"
   ]
  },
  {
   "cell_type": "code",
   "execution_count": null,
   "metadata": {},
   "outputs": [],
   "source": [
    "base_cords_df = pd.DataFrame{\n",
    "    \"Base Name\":base_name,\n",
    "    \"Coordinates\": coordinate\n",
    "}"
   ]
  },
  {
   "cell_type": "code",
   "execution_count": null,
   "metadata": {},
   "outputs": [],
   "source": [
    "uspto_df.to_excel(\"military-bases.xslm\", index=False, header=True)"
   ]
  }
 ],
 "metadata": {
  "kernelspec": {
   "display_name": "Python 3",
   "language": "python",
   "name": "python3"
  },
  "language_info": {
   "codemirror_mode": {
    "name": "ipython",
    "version": 3
   },
   "file_extension": ".py",
   "mimetype": "text/x-python",
   "name": "python",
   "nbconvert_exporter": "python",
   "pygments_lexer": "ipython3",
   "version": "3.7.4"
  }
 },
 "nbformat": 4,
 "nbformat_minor": 2
}
